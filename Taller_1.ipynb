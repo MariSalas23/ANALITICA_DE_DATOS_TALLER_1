{
 "cells": [
  {
   "cell_type": "markdown",
   "metadata": {},
   "source": [
    "# Taller 1: Uso práctico de Numpy, Pandas y Matplotlib en Saber11\n",
    "\n",
    "Juan David Cetina, Nicole Sofia Vangrieken, Felipe Martínez y Mariana Salas"
   ]
  },
  {
   "cell_type": "code",
   "execution_count": null,
   "metadata": {},
   "outputs": [],
   "source": [
    "# Importar las librerías para manejar y analizar datos\n",
    "import pandas as pd\n",
    "import numpy as np\n",
    "import matplotlib.pyplot as plt\n",
    "\n",
    "# Ruta al archivo CSV (modifica la ruta según donde esté ubicado tu archivo).\n",
    "ruta_dataset = \"C:\\\\Users\\\\marim\\\\Downloads\\\\Saber_11__2020-2_20250112.csv\"\n",
    "\n",
    "# Leer el archivo CSV y cargarlo en un DataFrame, indicando que los separadores son \";\"\n",
    "df = pd.read_csv(ruta_dataset, sep=\";\")\n",
    "\n",
    "# Eliminar observaciones con NA\n",
    "df_sin_na = df.dropna()\n",
    "\n",
    "print(\"\\nDataset después de eliminar observaciones con NA:\")\n",
    "print(f\"Total de filas originales: {df.shape[0]}\")\n",
    "print(f\"Total de filas después de eliminar NA: {df_sin_na.shape[0]}\")\n",
    "\n",
    "df = df_sin_na\n",
    "\n",
    "# Cambiar nombre de variables\n",
    "df.rename(columns={\n",
    "    'ESTU_COD_RESIDE_MCPIO': 'MunicipioCodigo', \n",
    "    'ESTU_MCPIO_RESIDE': 'Municipio', \n",
    "    'PUNT_GLOBAL': 'PuntajeGlobal' \n",
    "}, inplace=True)"
   ]
  },
  {
   "cell_type": "markdown",
   "metadata": {},
   "source": [
    "## 1. Calcular las puntuaciones medias por municipio y crear un histograma. 📊"
   ]
  },
  {
   "cell_type": "code",
   "execution_count": null,
   "metadata": {},
   "outputs": [],
   "source": [
    "# Calcular el promedio de puntaje global por Municipio\n",
    "promedios_por_municipio = df.groupby('MunicipioCodigo')['PuntajeGlobal'].mean()\n",
    "print(\"\\nPromedio de puntajes globales por municipio:\")\n",
    "print(promedios_por_municipio)\n",
    "\n",
    "\n",
    "\n",
    "# Histograma\n",
    "plt.hist(promedios_por_municipio, bins=100, color=\"purple\", alpha=0.7)\n",
    "plt.xlabel(\"Media de Puntaje\")\n",
    "plt.ylabel(\"Frecuencia\")\n",
    "plt.title(\"Histograma de Media de Puntaje por Municipio\")\n",
    "plt.show()"
   ]
  },
  {
   "cell_type": "markdown",
   "metadata": {},
   "source": [
    "## 2. Analizar las puntuaciones por grupo étnico y nivel socioeconómico, representando los resultados con gráficos. 📈"
   ]
  },
  {
   "cell_type": "code",
   "execution_count": 25,
   "metadata": {},
   "outputs": [],
   "source": [
    "# "
   ]
  },
  {
   "cell_type": "markdown",
   "metadata": {},
   "source": [
    "# 3. Responde a las siguientes preguntas con gráficos: ❓"
   ]
  },
  {
   "cell_type": "markdown",
   "metadata": {},
   "source": [
    "### ¿Los estudiantes de estrato 6 siempre obtienen mejores resultados? 🤔"
   ]
  },
  {
   "cell_type": "code",
   "execution_count": 26,
   "metadata": {},
   "outputs": [],
   "source": [
    "# "
   ]
  },
  {
   "cell_type": "markdown",
   "metadata": {},
   "source": [
    "#### ¿Qué modalidades de secundaria tienen los mejores y peores promedios? 🏫"
   ]
  },
  {
   "cell_type": "code",
   "execution_count": null,
   "metadata": {},
   "outputs": [],
   "source": [
    "#"
   ]
  }
 ],
 "metadata": {
  "kernelspec": {
   "display_name": "analitica",
   "language": "python",
   "name": "python3"
  },
  "language_info": {
   "codemirror_mode": {
    "name": "ipython",
    "version": 3
   },
   "file_extension": ".py",
   "mimetype": "text/x-python",
   "name": "python",
   "nbconvert_exporter": "python",
   "pygments_lexer": "ipython3",
   "version": "3.13.1"
  }
 },
 "nbformat": 4,
 "nbformat_minor": 2
}
