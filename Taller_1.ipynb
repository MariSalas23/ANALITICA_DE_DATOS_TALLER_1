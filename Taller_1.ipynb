{
 "cells": [
  {
   "cell_type": "code",
   "execution_count": 1,
   "metadata": {},
   "outputs": [
    {
     "name": "stdout",
     "output_type": "stream",
     "text": [
      "\n",
      "Dataset después de eliminar observaciones con NA:\n",
      "Total de filas originales: 504872\n",
      "Total de filas después de eliminar NA: 371826\n"
     ]
    }
   ],
   "source": [
    "# Importar las librerías para manejar y analizar datos\n",
    "import pandas as pd\n",
    "import numpy as np\n",
    "import matplotlib.pyplot as plt\n",
    "\n",
    "# Ruta al archivo CSV (modifica la ruta según donde esté ubicado tu archivo)\n",
    "ruta_dataset = \"C:\\\\Users\\\\marim\\\\Downloads\\\\Saber_11__2020-2_20250112.csv\"\n",
    "\n",
    "# Leer el archivo CSV y cargarlo en un DataFrame, indicando que los separadores son \";\"\n",
    "df = pd.read_csv(ruta_dataset, sep=\";\")\n",
    "\n",
    "# Eliminar observaciones con NA\n",
    "df_sin_na = df.dropna()\n",
    "\n",
    "print(\"\\nDataset después de eliminar observaciones con NA:\")\n",
    "print(f\"Total de filas originales: {df.shape[0]}\")\n",
    "print(f\"Total de filas después de eliminar NA: {df_sin_na.shape[0]}\")\n",
    "\n",
    "df = df_sin_na\n",
    "\n",
    "# Cambiar nombre de variables\n",
    "df.rename(columns={\n",
    "    'ESTU_MCPIO_RESIDE': 'Municipio', \n",
    "    'PUNT_GLOBAL': 'PuntajeGlobal' \n",
    "}, inplace=True)"
   ]
  },
  {
   "cell_type": "code",
   "execution_count": 2,
   "metadata": {},
   "outputs": [
    {
     "name": "stdout",
     "output_type": "stream",
     "text": [
      "\n",
      "Promedio de puntajes globales por municipio:\n",
      "Municipio\n",
      "ABEJORRAL        248.694268\n",
      "ABRIAQUÍ         215.050000\n",
      "ACACÍAS          256.597561\n",
      "ACANDÍ           205.553191\n",
      "ACEVEDO          239.340909\n",
      "                    ...    \n",
      "ZONA BANANERA    207.507277\n",
      "ÁBREGO           261.787356\n",
      "ÍQUIRA           243.377049\n",
      "ÚMBITA           238.484848\n",
      "ÚTICA            231.754717\n",
      "Name: PuntajeGlobal, Length: 1022, dtype: float64\n"
     ]
    }
   ],
   "source": [
    "# 1. Calcular las puntuaciones medias por municipio y crear un histograma. 📊\n",
    "\n",
    "# Calcular el promedio de puntaje global por Municipio\n",
    "promedios_por_municipio = df.groupby('Municipio')['PuntajeGlobal'].mean()\n",
    "print(\"\\nPromedio de puntajes globales por municipio:\")\n",
    "print(promedios_por_municipio)\n",
    "\n",
    "# Histograma"
   ]
  },
  {
   "cell_type": "code",
   "execution_count": null,
   "metadata": {},
   "outputs": [],
   "source": [
    "# 2. Analizar las puntuaciones por grupo étnico y nivel socioeconómico, representando los resultados con gráficos. 📈"
   ]
  },
  {
   "cell_type": "code",
   "execution_count": null,
   "metadata": {},
   "outputs": [],
   "source": [
    "# 3. Responde a las siguientes preguntas con gráficos: ❓\n",
    "# ¿Los estudiantes de estrato 6 siempre obtienen mejores resultados? 🤔\n",
    "# ¿Qué modalidades de secundaria tienen los mejores y peores promedios? 🏫"
   ]
  }
 ],
 "metadata": {
  "kernelspec": {
   "display_name": "analitica",
   "language": "python",
   "name": "python3"
  },
  "language_info": {
   "codemirror_mode": {
    "name": "ipython",
    "version": 3
   },
   "file_extension": ".py",
   "mimetype": "text/x-python",
   "name": "python",
   "nbconvert_exporter": "python",
   "pygments_lexer": "ipython3",
   "version": "3.13.1"
  }
 },
 "nbformat": 4,
 "nbformat_minor": 2
}
